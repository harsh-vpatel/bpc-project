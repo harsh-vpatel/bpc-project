{
  "nbformat": 4,
  "nbformat_minor": 0,
  "metadata": {
    "colab": {
      "provenance": [],
      "gpuType": "T4",
      "authorship_tag": "ABX9TyNkuFl9dXoc9Q0L/hHWGiGg",
      "include_colab_link": true
    },
    "kernelspec": {
      "name": "python3",
      "display_name": "Python 3"
    },
    "language_info": {
      "name": "python"
    },
    "accelerator": "GPU"
  },
  "cells": [
    {
      "cell_type": "markdown",
      "metadata": {
        "id": "view-in-github",
        "colab_type": "text"
      },
      "source": [
        "<a href=\"https://colab.research.google.com/github/nilsimda/bpc-project/blob/main/Train_HSB_DE_BPE_Example.ipynb\" target=\"_parent\"><img src=\"https://colab.research.google.com/assets/colab-badge.svg\" alt=\"Open In Colab\"/></a>"
      ]
    },
    {
      "cell_type": "markdown",
      "source": [
        "## 1. Set up Repo"
      ],
      "metadata": {
        "id": "VVrkyJAbhKN3"
      }
    },
    {
      "cell_type": "code",
      "execution_count": 1,
      "metadata": {
        "colab": {
          "base_uri": "https://localhost:8080/"
        },
        "id": "FUQpx8I9dPev",
        "outputId": "28fe8ade-cc7a-4f23-82cc-0b6aefb52915"
      },
      "outputs": [
        {
          "output_type": "stream",
          "name": "stdout",
          "text": [
            "fatal: destination path 'bpc-project' already exists and is not an empty directory.\n"
          ]
        }
      ],
      "source": [
        "!git clone https://github.com/nilsimda/bpc-project.git"
      ]
    },
    {
      "cell_type": "code",
      "source": [
        "%cd bpc-project/"
      ],
      "metadata": {
        "colab": {
          "base_uri": "https://localhost:8080/"
        },
        "id": "hDy3KGFGdVFt",
        "outputId": "9ce2ca3f-add5-4328-c1e0-7e9c009dd39f"
      },
      "execution_count": 2,
      "outputs": [
        {
          "output_type": "stream",
          "name": "stdout",
          "text": [
            "/content/bpc-project\n"
          ]
        }
      ]
    },
    {
      "cell_type": "code",
      "source": [
        "!uv sync"
      ],
      "metadata": {
        "id": "9ghAkuNefPnK"
      },
      "execution_count": null,
      "outputs": []
    },
    {
      "cell_type": "markdown",
      "source": [
        "## 2. Prepare Dataset"
      ],
      "metadata": {
        "id": "jf-BhdilhS5A"
      }
    },
    {
      "cell_type": "code",
      "source": [
        "!uv run ./prepare.sh bpe"
      ],
      "metadata": {
        "colab": {
          "base_uri": "https://localhost:8080/"
        },
        "id": "Z4NJqFmcg70M",
        "outputId": "d52a1d52-0644-465a-a69f-294018052d42"
      },
      "execution_count": 6,
      "outputs": [
        {
          "output_type": "stream",
          "name": "stdout",
          "text": [
            "Using segmentation method: bpe\n",
            "Starting preprocessing for hsb-de with bpe...\n",
            "Step 1-5: Processing train/dev/test splits through Moses pipeline...\n",
            "Processing train split...\n",
            "Tokenizer Version 1.1\n",
            "Language: hsb\n",
            "Number of threads: 1\n",
            "WARNING: No known abbreviations for language 'hsb', attempting fall-back to English version...\n",
            "Tokenizer Version 1.1\n",
            "Language: de\n",
            "Number of threads: 1\n",
            "clean-corpus.perl: processing ./dataset/output_moses/train.tok.hsb & .de to ./dataset/output_moses/train.clean, cutoff 1-100, ratio 9\n",
            "..........(100000)..........(200000)..........(300000)..........(400000)....\n",
            "Input sentences: 449058  Output sentences:  449057\n",
            "Processing dev split...\n",
            "Tokenizer Version 1.1\n",
            "Language: hsb\n",
            "Number of threads: 1\n",
            "WARNING: No known abbreviations for language 'hsb', attempting fall-back to English version...\n",
            "Tokenizer Version 1.1\n",
            "Language: de\n",
            "Number of threads: 1\n",
            "Processing test split...\n",
            "Tokenizer Version 1.1\n",
            "Language: hsb\n",
            "Number of threads: 1\n",
            "WARNING: No known abbreviations for language 'hsb', attempting fall-back to English version...\n",
            "Tokenizer Version 1.1\n",
            "Language: de\n",
            "Number of threads: 1\n",
            "Step 4: Training truecaser on training data...\n",
            "Step 5: Applying truecasing to all splits...\n",
            "Step 6: Learning BPE on training data...\n",
            "Combined training data has 898114 lines\n",
            "100% 16000/16000 [01:01<00:00, 260.89it/s]\n",
            "BPE codes learned successfully (16001 operations)\n",
            "Step 7: Applying bpe to all splits...\n",
            "Step 8: Creating fairseq binary dataset...\n",
            "2025-06-23 11:26:08 | INFO | fairseq_cli.preprocess | Namespace(no_progress_bar=False, log_interval=100, log_format=None, log_file=None, aim_repo=None, aim_run_hash=None, tensorboard_logdir=None, wandb_project=None, azureml_logging=False, seed=1, cpu=False, tpu=False, bf16=False, memory_efficient_bf16=False, fp16=False, memory_efficient_fp16=False, fp16_no_flatten_grads=False, fp16_init_scale=128, fp16_scale_window=None, fp16_scale_tolerance=0.0, on_cpu_convert_precision=False, min_loss_scale=0.0001, threshold_loss_scale=None, amp=False, amp_batch_retries=2, amp_init_scale=128, amp_scale_window=None, user_dir=None, empty_cache_freq=0, all_gather_list_size=16384, model_parallel_size=1, quantization_config_path=None, profile=False, reset_logging=False, suppress_crashes=False, use_plasma_view=False, plasma_path='/tmp/plasma', criterion='cross_entropy', tokenizer=None, bpe=None, optimizer=None, lr_scheduler='fixed', scoring='bleu', task='translation', source_lang='hsb', target_lang='de', trainpref='./dataset/output_bpe/train.bpe', validpref='./dataset/output_bpe/dev.bpe', testpref='./dataset/output_bpe/test.bpe', align_suffix=None, destdir='./dataset/fairseq_bpe', thresholdtgt=0, thresholdsrc=0, tgtdict=None, srcdict=None, nwordstgt=-1, nwordssrc=-1, alignfile=None, dataset_impl='mmap', joined_dictionary=False, only_source=False, padding_factor=8, workers=4, dict_only=False)\n",
            "2025-06-23 11:26:53 | INFO | fairseq_cli.preprocess | [hsb] Dictionary: 11024 types\n",
            "2025-06-23 11:28:09 | INFO | fairseq_cli.preprocess | [hsb] ./dataset/output_bpe/train.bpe.hsb: 449057 sents, 8965710 tokens, 0.0% replaced (by <unk>)\n",
            "2025-06-23 11:28:09 | INFO | fairseq_cli.preprocess | [hsb] Dictionary: 11024 types\n",
            "2025-06-23 11:28:10 | INFO | fairseq_cli.preprocess | [hsb] ./dataset/output_bpe/dev.bpe.hsb: 4001 sents, 74783 tokens, 0.00401% replaced (by <unk>)\n",
            "2025-06-23 11:28:10 | INFO | fairseq_cli.preprocess | [hsb] Dictionary: 11024 types\n",
            "2025-06-23 11:28:10 | INFO | fairseq_cli.preprocess | [hsb] ./dataset/output_bpe/test.bpe.hsb: 2000 sents, 37515 tokens, 0.00267% replaced (by <unk>)\n",
            "2025-06-23 11:28:10 | INFO | fairseq_cli.preprocess | [de] Dictionary: 10240 types\n",
            "2025-06-23 11:29:16 | INFO | fairseq_cli.preprocess | [de] ./dataset/output_bpe/train.bpe.de: 449057 sents, 9476472 tokens, 0.0% replaced (by <unk>)\n",
            "2025-06-23 11:29:16 | INFO | fairseq_cli.preprocess | [de] Dictionary: 10240 types\n",
            "2025-06-23 11:29:16 | INFO | fairseq_cli.preprocess | [de] ./dataset/output_bpe/dev.bpe.de: 4001 sents, 78700 tokens, 0.00127% replaced (by <unk>)\n",
            "2025-06-23 11:29:16 | INFO | fairseq_cli.preprocess | [de] Dictionary: 10240 types\n",
            "2025-06-23 11:29:17 | INFO | fairseq_cli.preprocess | [de] ./dataset/output_bpe/test.bpe.de: 2000 sents, 39531 tokens, 0.0% replaced (by <unk>)\n",
            "2025-06-23 11:29:17 | INFO | fairseq_cli.preprocess | Wrote preprocessed data to ./dataset/fairseq_bpe\n",
            "Fairseq binary dataset created successfully!\n",
            "=== Preprocessing Statistics ===\n",
            "=== Original Split Statistics ===\n",
            "Training sentences: 449058\n",
            "Development sentences: 4001\n",
            "Test sentences: 2000\n",
            "\n",
            "=== After Moses Processing ===\n",
            "Training sentences: 449057\n",
            "Development sentences: 4001\n",
            "Test sentences: 2000\n",
            "BPE operations: 16000\n",
            "\n",
            "Preprocessing complete!\n",
            "\n",
            "=== Directory Structure ===\n",
            "./dataset/original/ - Original train/dev/test split files\n",
            "./dataset/output_moses/ - Moses preprocessing output, train/dev/test splits\n",
            "./dataset/output_bpe/ - BPE codes/models and tokenized files\n",
            "./dataset/fairseq_bpe/ - Fairseq binary dataset (ready for training)\n",
            "\n",
            "=== Key Files for NMT Training ===\n",
            "Fairseq binary data: ./dataset/fairseq_bpe/\n",
            "BPE codes: ./dataset/output_bpe/bpe.codes\n",
            "Truecaser models: ./dataset/output_moses/truecase-model.hsb, ./dataset/output_moses/truecase-model.de\n",
            "\n",
            "Ready for NMT training with bpe segmentation!\n"
          ]
        }
      ]
    },
    {
      "cell_type": "markdown",
      "source": [
        "## 3. Train the model with Fairseq"
      ],
      "metadata": {
        "id": "H0t9W4m3iyCC"
      }
    },
    {
      "cell_type": "code",
      "source": [
        "!export CUDA_VISIBLE_DEVICES=0 && uv run fairseq-train \\\n",
        "  ./dataset/fairseq_bpe \\\n",
        "  --arch transformer_iwslt_de_en \\\n",
        "  --max-epoch 1 \\\n",
        "  --patience 10 \\\n",
        "  --save-interval 1 \\\n",
        "  --validate-interval 1 \\\n",
        "  --share-decoder-input-output-embed \\\n",
        "  --optimizer adam --adam-betas '(0.9, 0.98)' --clip-norm 0.0 \\\n",
        "  --lr 5e-4 --lr-scheduler inverse_sqrt --warmup-updates 4000 \\\n",
        "  --dropout 0.3 --weight-decay 0.0001 \\\n",
        "  --criterion label_smoothed_cross_entropy --label-smoothing 0.1 \\\n",
        "  --max-tokens 4096 \\\n",
        "  --eval-bleu \\\n",
        "  --eval-bleu-args '{\"beam\": 5, \"max_len_a\": 1.2, \"max_len_b\": 10}' \\\n",
        "  --eval-bleu-detok moses \\\n",
        "  --eval-bleu-remove-bpe \\\n",
        "  --eval-bleu-print-samples \\\n",
        "  --best-checkpoint-metric bleu --maximize-best-checkpoint-metric \\\n",
        "  --save-dir checkpoints/sorbian_german_bpe\n"
      ],
      "metadata": {
        "colab": {
          "base_uri": "https://localhost:8080/"
        },
        "id": "WPyoF3cghW_K",
        "outputId": "e4643ef6-1432-46cd-9969-7d401a8d6228"
      },
      "execution_count": null,
      "outputs": [
        {
          "output_type": "stream",
          "name": "stdout",
          "text": [
            "2025-06-23 11:32:09 | INFO | fairseq_cli.train | {'_name': None, 'common': {'_name': None, 'no_progress_bar': False, 'log_interval': 100, 'log_format': None, 'log_file': None, 'aim_repo': None, 'aim_run_hash': None, 'tensorboard_logdir': None, 'wandb_project': None, 'azureml_logging': False, 'seed': 1, 'cpu': False, 'tpu': False, 'bf16': False, 'memory_efficient_bf16': False, 'fp16': False, 'memory_efficient_fp16': False, 'fp16_no_flatten_grads': False, 'fp16_init_scale': 128, 'fp16_scale_window': None, 'fp16_scale_tolerance': 0.0, 'on_cpu_convert_precision': False, 'min_loss_scale': 0.0001, 'threshold_loss_scale': None, 'amp': False, 'amp_batch_retries': 2, 'amp_init_scale': 128, 'amp_scale_window': None, 'user_dir': None, 'empty_cache_freq': 0, 'all_gather_list_size': 16384, 'model_parallel_size': 1, 'quantization_config_path': None, 'profile': False, 'reset_logging': False, 'suppress_crashes': False, 'use_plasma_view': False, 'plasma_path': '/tmp/plasma'}, 'common_eval': {'_name': None, 'path': None, 'post_process': None, 'quiet': False, 'model_overrides': '{}', 'results_path': None}, 'distributed_training': {'_name': None, 'distributed_world_size': 1, 'distributed_num_procs': 1, 'distributed_rank': 0, 'distributed_backend': 'nccl', 'distributed_init_method': None, 'distributed_port': -1, 'device_id': 0, 'distributed_no_spawn': False, 'ddp_backend': 'pytorch_ddp', 'ddp_comm_hook': 'none', 'bucket_cap_mb': 25, 'fix_batches_to_gpus': False, 'find_unused_parameters': False, 'gradient_as_bucket_view': False, 'fast_stat_sync': False, 'heartbeat_timeout': -1, 'broadcast_buffers': False, 'slowmo_momentum': None, 'slowmo_base_algorithm': 'localsgd', 'localsgd_frequency': 3, 'nprocs_per_node': 1, 'pipeline_model_parallel': False, 'pipeline_balance': None, 'pipeline_devices': None, 'pipeline_chunks': 0, 'pipeline_encoder_balance': None, 'pipeline_encoder_devices': None, 'pipeline_decoder_balance': None, 'pipeline_decoder_devices': None, 'pipeline_checkpoint': 'never', 'zero_sharding': 'none', 'fp16': False, 'memory_efficient_fp16': False, 'tpu': False, 'no_reshard_after_forward': False, 'fp32_reduce_scatter': False, 'cpu_offload': False, 'use_sharded_state': False, 'not_fsdp_flatten_parameters': False}, 'dataset': {'_name': None, 'num_workers': 1, 'skip_invalid_size_inputs_valid_test': False, 'max_tokens': 4096, 'batch_size': None, 'required_batch_size_multiple': 8, 'required_seq_len_multiple': 1, 'dataset_impl': None, 'data_buffer_size': 10, 'train_subset': 'train', 'valid_subset': 'valid', 'combine_valid_subsets': None, 'ignore_unused_valid_subsets': False, 'validate_interval': 1, 'validate_interval_updates': 0, 'validate_after_updates': 0, 'fixed_validation_seed': None, 'disable_validation': False, 'max_tokens_valid': 4096, 'batch_size_valid': None, 'max_valid_steps': None, 'curriculum': 0, 'gen_subset': 'test', 'num_shards': 1, 'shard_id': 0, 'grouped_shuffling': False, 'update_epoch_batch_itr': False, 'update_ordered_indices_seed': False}, 'optimization': {'_name': None, 'max_epoch': 1, 'max_update': 0, 'stop_time_hours': 0.0, 'clip_norm': 0.0, 'sentence_avg': False, 'update_freq': [1], 'lr': [0.0005], 'stop_min_lr': -1.0, 'use_bmuf': False, 'skip_remainder_batch': False}, 'checkpoint': {'_name': None, 'save_dir': 'checkpoints/sorbian_german_bpe', 'restore_file': 'checkpoint_last.pt', 'continue_once': None, 'finetune_from_model': None, 'reset_dataloader': False, 'reset_lr_scheduler': False, 'reset_meters': False, 'reset_optimizer': False, 'optimizer_overrides': '{}', 'save_interval': 1, 'save_interval_updates': 0, 'keep_interval_updates': -1, 'keep_interval_updates_pattern': -1, 'keep_last_epochs': -1, 'keep_best_checkpoints': -1, 'no_save': False, 'no_epoch_checkpoints': False, 'no_last_checkpoints': False, 'no_save_optimizer_state': False, 'best_checkpoint_metric': 'bleu', 'maximize_best_checkpoint_metric': True, 'patience': 10, 'checkpoint_suffix': '', 'checkpoint_shard_count': 1, 'load_checkpoint_on_all_dp_ranks': False, 'write_checkpoints_asynchronously': False, 'model_parallel_size': 1}, 'bmuf': {'_name': None, 'block_lr': 1.0, 'block_momentum': 0.875, 'global_sync_iter': 50, 'warmup_iterations': 500, 'use_nbm': False, 'average_sync': False, 'distributed_world_size': 1}, 'generation': {'_name': None, 'beam': 5, 'nbest': 1, 'max_len_a': 0.0, 'max_len_b': 200, 'min_len': 1, 'match_source_len': False, 'unnormalized': False, 'no_early_stop': False, 'no_beamable_mm': False, 'lenpen': 1.0, 'unkpen': 0.0, 'replace_unk': None, 'sacrebleu': False, 'score_reference': False, 'prefix_size': 0, 'no_repeat_ngram_size': 0, 'sampling': False, 'sampling_topk': -1, 'sampling_topp': -1.0, 'constraints': None, 'temperature': 1.0, 'diverse_beam_groups': -1, 'diverse_beam_strength': 0.5, 'diversity_rate': -1.0, 'print_alignment': None, 'print_step': False, 'lm_path': None, 'lm_weight': 0.0, 'iter_decode_eos_penalty': 0.0, 'iter_decode_max_iter': 10, 'iter_decode_force_max_iter': False, 'iter_decode_with_beam': 1, 'iter_decode_with_external_reranker': False, 'retain_iter_history': False, 'retain_dropout': False, 'retain_dropout_modules': None, 'decoding_format': None, 'no_seed_provided': False, 'eos_token': None}, 'eval_lm': {'_name': None, 'output_word_probs': False, 'output_word_stats': False, 'context_window': 0, 'softmax_batch': 9223372036854775807}, 'interactive': {'_name': None, 'buffer_size': 0, 'input': '-'}, 'model': Namespace(no_progress_bar=False, log_interval=100, log_format=None, log_file=None, aim_repo=None, aim_run_hash=None, tensorboard_logdir=None, wandb_project=None, azureml_logging=False, seed=1, cpu=False, tpu=False, bf16=False, memory_efficient_bf16=False, fp16=False, memory_efficient_fp16=False, fp16_no_flatten_grads=False, fp16_init_scale=128, fp16_scale_window=None, fp16_scale_tolerance=0.0, on_cpu_convert_precision=False, min_loss_scale=0.0001, threshold_loss_scale=None, amp=False, amp_batch_retries=2, amp_init_scale=128, amp_scale_window=None, user_dir=None, empty_cache_freq=0, all_gather_list_size=16384, model_parallel_size=1, quantization_config_path=None, profile=False, reset_logging=False, suppress_crashes=False, use_plasma_view=False, plasma_path='/tmp/plasma', criterion='label_smoothed_cross_entropy', tokenizer=None, bpe=None, optimizer='adam', lr_scheduler='inverse_sqrt', scoring='bleu', task='translation', num_workers=1, skip_invalid_size_inputs_valid_test=False, max_tokens=4096, batch_size=None, required_batch_size_multiple=8, required_seq_len_multiple=1, dataset_impl=None, data_buffer_size=10, train_subset='train', valid_subset='valid', combine_valid_subsets=None, ignore_unused_valid_subsets=False, validate_interval=1, validate_interval_updates=0, validate_after_updates=0, fixed_validation_seed=None, disable_validation=False, max_tokens_valid=4096, batch_size_valid=None, max_valid_steps=None, curriculum=0, gen_subset='test', num_shards=1, shard_id=0, grouped_shuffling=False, update_epoch_batch_itr=False, update_ordered_indices_seed=False, distributed_world_size=1, distributed_num_procs=1, distributed_rank=0, distributed_backend='nccl', distributed_init_method=None, distributed_port=-1, device_id=0, distributed_no_spawn=False, ddp_backend='pytorch_ddp', ddp_comm_hook='none', bucket_cap_mb=25, fix_batches_to_gpus=False, find_unused_parameters=False, gradient_as_bucket_view=False, fast_stat_sync=False, heartbeat_timeout=-1, broadcast_buffers=False, slowmo_momentum=None, slowmo_base_algorithm='localsgd', localsgd_frequency=3, nprocs_per_node=1, pipeline_model_parallel=False, pipeline_balance=None, pipeline_devices=None, pipeline_chunks=0, pipeline_encoder_balance=None, pipeline_encoder_devices=None, pipeline_decoder_balance=None, pipeline_decoder_devices=None, pipeline_checkpoint='never', zero_sharding='none', no_reshard_after_forward=False, fp32_reduce_scatter=False, cpu_offload=False, use_sharded_state=False, not_fsdp_flatten_parameters=False, arch='transformer_iwslt_de_en', max_epoch=1, max_update=0, stop_time_hours=0, clip_norm=0.0, sentence_avg=False, update_freq=[1], lr=[0.0005], stop_min_lr=-1.0, use_bmuf=False, skip_remainder_batch=False, save_dir='checkpoints/sorbian_german_bpe', restore_file='checkpoint_last.pt', continue_once=None, finetune_from_model=None, reset_dataloader=False, reset_lr_scheduler=False, reset_meters=False, reset_optimizer=False, optimizer_overrides='{}', save_interval=1, save_interval_updates=0, keep_interval_updates=-1, keep_interval_updates_pattern=-1, keep_last_epochs=-1, keep_best_checkpoints=-1, no_save=False, no_epoch_checkpoints=False, no_last_checkpoints=False, no_save_optimizer_state=False, best_checkpoint_metric='bleu', maximize_best_checkpoint_metric=True, patience=10, checkpoint_suffix='', checkpoint_shard_count=1, load_checkpoint_on_all_dp_ranks=False, write_checkpoints_asynchronously=False, store_ema=False, ema_decay=0.9999, ema_start_update=0, ema_seed_model=None, ema_update_freq=1, ema_fp32=False, data='./dataset/fairseq_bpe', source_lang=None, target_lang=None, load_alignments=False, left_pad_source=True, left_pad_target=False, upsample_primary=-1, truncate_source=False, num_batch_buckets=0, eval_bleu=True, eval_bleu_args='{\"beam\": 5, \"max_len_a\": 1.2, \"max_len_b\": 10}', eval_bleu_detok='moses', eval_bleu_detok_args='{}', eval_tokenized_bleu=False, eval_bleu_remove_bpe='@@ ', eval_bleu_print_samples=True, label_smoothing=0.1, report_accuracy=False, ignore_prefix_size=0, adam_betas='(0.9, 0.98)', adam_eps=1e-08, weight_decay=0.0001, use_old_adam=False, fp16_adam_stats=False, warmup_updates=4000, warmup_init_lr=-1, pad=1, eos=2, unk=3, share_decoder_input_output_embed=True, dropout=0.3, no_seed_provided=False, encoder_embed_dim=512, encoder_ffn_embed_dim=1024, encoder_attention_heads=4, encoder_layers=6, decoder_embed_dim=512, decoder_ffn_embed_dim=1024, decoder_attention_heads=4, decoder_layers=6, encoder_embed_path=None, encoder_normalize_before=False, encoder_learned_pos=False, decoder_embed_path=None, decoder_normalize_before=False, decoder_learned_pos=False, attention_dropout=0.0, activation_dropout=0.0, activation_fn='relu', adaptive_softmax_cutoff=None, adaptive_softmax_dropout=0, share_all_embeddings=False, no_token_positional_embeddings=False, adaptive_input=False, no_cross_attention=False, cross_self_attention=False, decoder_output_dim=512, decoder_input_dim=512, no_scale_embedding=False, layernorm_embedding=False, tie_adaptive_weights=False, checkpoint_activations=False, offload_activations=False, encoder_layers_to_keep=None, decoder_layers_to_keep=None, encoder_layerdrop=0, decoder_layerdrop=0, quant_noise_pq=0, quant_noise_pq_block_size=8, quant_noise_scalar=0, _name='transformer_iwslt_de_en'), 'task': {'_name': 'translation', 'data': './dataset/fairseq_bpe', 'source_lang': None, 'target_lang': None, 'load_alignments': False, 'left_pad_source': True, 'left_pad_target': False, 'max_source_positions': 1024, 'max_target_positions': 1024, 'upsample_primary': -1, 'truncate_source': False, 'num_batch_buckets': 0, 'train_subset': 'train', 'dataset_impl': None, 'required_seq_len_multiple': 1, 'eval_bleu': True, 'eval_bleu_args': '{\"beam\": 5, \"max_len_a\": 1.2, \"max_len_b\": 10}', 'eval_bleu_detok': 'moses', 'eval_bleu_detok_args': '{}', 'eval_tokenized_bleu': False, 'eval_bleu_remove_bpe': '@@ ', 'eval_bleu_print_samples': True}, 'criterion': {'_name': 'label_smoothed_cross_entropy', 'label_smoothing': 0.1, 'report_accuracy': False, 'ignore_prefix_size': 0, 'sentence_avg': False}, 'optimizer': {'_name': 'adam', 'adam_betas': '(0.9, 0.98)', 'adam_eps': 1e-08, 'weight_decay': 0.0001, 'use_old_adam': False, 'fp16_adam_stats': False, 'tpu': False, 'lr': [0.0005]}, 'lr_scheduler': {'_name': 'inverse_sqrt', 'warmup_updates': 4000, 'warmup_init_lr': -1.0, 'lr': [0.0005]}, 'scoring': {'_name': 'bleu', 'pad': 1, 'eos': 2, 'unk': 3}, 'bpe': None, 'tokenizer': None, 'ema': {'_name': None, 'store_ema': False, 'ema_decay': 0.9999, 'ema_start_update': 0, 'ema_seed_model': None, 'ema_update_freq': 1, 'ema_fp32': False}}\n",
            "2025-06-23 11:32:09 | INFO | fairseq.tasks.translation | [hsb] dictionary: 11024 types\n",
            "2025-06-23 11:32:09 | INFO | fairseq.tasks.translation | [de] dictionary: 10240 types\n",
            "2025-06-23 11:32:10 | INFO | fairseq_cli.train | TransformerModel(\n",
            "  (encoder): TransformerEncoderBase(\n",
            "    (dropout_module): FairseqDropout()\n",
            "    (embed_tokens): Embedding(11024, 512, padding_idx=1)\n",
            "    (embed_positions): SinusoidalPositionalEmbedding()\n",
            "    (layers): ModuleList(\n",
            "      (0-5): 6 x TransformerEncoderLayerBase(\n",
            "        (self_attn): MultiheadAttention(\n",
            "          (dropout_module): FairseqDropout()\n",
            "          (k_proj): Linear(in_features=512, out_features=512, bias=True)\n",
            "          (v_proj): Linear(in_features=512, out_features=512, bias=True)\n",
            "          (q_proj): Linear(in_features=512, out_features=512, bias=True)\n",
            "          (out_proj): Linear(in_features=512, out_features=512, bias=True)\n",
            "        )\n",
            "        (self_attn_layer_norm): LayerNorm((512,), eps=1e-05, elementwise_affine=True)\n",
            "        (dropout_module): FairseqDropout()\n",
            "        (activation_dropout_module): FairseqDropout()\n",
            "        (fc1): Linear(in_features=512, out_features=1024, bias=True)\n",
            "        (fc2): Linear(in_features=1024, out_features=512, bias=True)\n",
            "        (final_layer_norm): LayerNorm((512,), eps=1e-05, elementwise_affine=True)\n",
            "      )\n",
            "    )\n",
            "  )\n",
            "  (decoder): TransformerDecoderBase(\n",
            "    (dropout_module): FairseqDropout()\n",
            "    (embed_tokens): Embedding(10240, 512, padding_idx=1)\n",
            "    (embed_positions): SinusoidalPositionalEmbedding()\n",
            "    (layers): ModuleList(\n",
            "      (0-5): 6 x TransformerDecoderLayerBase(\n",
            "        (dropout_module): FairseqDropout()\n",
            "        (self_attn): MultiheadAttention(\n",
            "          (dropout_module): FairseqDropout()\n",
            "          (k_proj): Linear(in_features=512, out_features=512, bias=True)\n",
            "          (v_proj): Linear(in_features=512, out_features=512, bias=True)\n",
            "          (q_proj): Linear(in_features=512, out_features=512, bias=True)\n",
            "          (out_proj): Linear(in_features=512, out_features=512, bias=True)\n",
            "        )\n",
            "        (activation_dropout_module): FairseqDropout()\n",
            "        (self_attn_layer_norm): LayerNorm((512,), eps=1e-05, elementwise_affine=True)\n",
            "        (encoder_attn): MultiheadAttention(\n",
            "          (dropout_module): FairseqDropout()\n",
            "          (k_proj): Linear(in_features=512, out_features=512, bias=True)\n",
            "          (v_proj): Linear(in_features=512, out_features=512, bias=True)\n",
            "          (q_proj): Linear(in_features=512, out_features=512, bias=True)\n",
            "          (out_proj): Linear(in_features=512, out_features=512, bias=True)\n",
            "        )\n",
            "        (encoder_attn_layer_norm): LayerNorm((512,), eps=1e-05, elementwise_affine=True)\n",
            "        (fc1): Linear(in_features=512, out_features=1024, bias=True)\n",
            "        (fc2): Linear(in_features=1024, out_features=512, bias=True)\n",
            "        (final_layer_norm): LayerNorm((512,), eps=1e-05, elementwise_affine=True)\n",
            "      )\n",
            "    )\n",
            "    (output_projection): Linear(in_features=512, out_features=10240, bias=False)\n",
            "  )\n",
            ")\n",
            "2025-06-23 11:32:10 | INFO | fairseq_cli.train | task: TranslationTask\n",
            "2025-06-23 11:32:10 | INFO | fairseq_cli.train | model: TransformerModel\n",
            "2025-06-23 11:32:10 | INFO | fairseq_cli.train | criterion: LabelSmoothedCrossEntropyCriterion\n",
            "2025-06-23 11:32:10 | INFO | fairseq_cli.train | num. shared model params: 42,430,464 (num. trained: 42,430,464)\n",
            "2025-06-23 11:32:10 | INFO | fairseq_cli.train | num. expert model params: 0 (num. trained: 0)\n",
            "2025-06-23 11:32:10 | INFO | fairseq.data.data_utils | loaded 4,001 examples from: ./dataset/fairseq_bpe/valid.hsb-de.hsb\n",
            "2025-06-23 11:32:10 | INFO | fairseq.data.data_utils | loaded 4,001 examples from: ./dataset/fairseq_bpe/valid.hsb-de.de\n",
            "2025-06-23 11:32:10 | INFO | fairseq.tasks.translation | ./dataset/fairseq_bpe valid hsb-de 4001 examples\n",
            "2025-06-23 11:32:11 | INFO | fairseq.trainer | detected shared parameter: decoder.embed_tokens.weight <- decoder.output_projection.weight\n",
            "2025-06-23 11:32:11 | INFO | fairseq.utils | ***********************CUDA enviroments for all 1 workers***********************\n",
            "2025-06-23 11:32:11 | INFO | fairseq.utils | rank   0: capabilities =  7.5  ; total memory = 14.741 GB ; name = Tesla T4                                \n",
            "2025-06-23 11:32:11 | INFO | fairseq.utils | ***********************CUDA enviroments for all 1 workers***********************\n",
            "2025-06-23 11:32:11 | INFO | fairseq_cli.train | training on 1 devices (GPUs/TPUs)\n",
            "2025-06-23 11:32:11 | INFO | fairseq_cli.train | max tokens per device = 4096 and max sentences per device = None\n",
            "2025-06-23 11:32:11 | INFO | fairseq.trainer | Preparing to load checkpoint checkpoints/sorbian_german_bpe/checkpoint_last.pt\n",
            "2025-06-23 11:32:11 | INFO | fairseq.trainer | No existing checkpoint found checkpoints/sorbian_german_bpe/checkpoint_last.pt\n",
            "2025-06-23 11:32:11 | INFO | fairseq.trainer | loading train data for epoch 1\n",
            "2025-06-23 11:32:11 | INFO | fairseq.data.data_utils | loaded 449,057 examples from: ./dataset/fairseq_bpe/train.hsb-de.hsb\n",
            "2025-06-23 11:32:11 | INFO | fairseq.data.data_utils | loaded 449,057 examples from: ./dataset/fairseq_bpe/train.hsb-de.de\n",
            "2025-06-23 11:32:11 | INFO | fairseq.tasks.translation | ./dataset/fairseq_bpe train hsb-de 449057 examples\n",
            "2025-06-23 11:32:11 | INFO | fairseq.trainer | NOTE: your device may support faster training with --fp16 or --amp\n",
            "2025-06-23 11:32:11 | INFO | fairseq.data.iterators | grouped total_num_itrs = 2444\n",
            "epoch 001:   0% 0/2444 [00:00<?, ?it/s]2025-06-23 11:32:11 | INFO | fairseq.trainer | begin training epoch 1\n",
            "2025-06-23 11:32:11 | INFO | fairseq_cli.train | Start iterating over samples\n",
            "/content/bpc-project/.venv/lib/python3.10/site-packages/fairseq/utils.py:374: UserWarning: amp_C fused kernels unavailable, disabling multi_tensor_l2norm; you may get better performance by installing NVIDIA's apex library\n",
            "  warnings.warn(\n",
            "epoch 001:   0% 1/2444 [00:01<41:53,  1.03s/it]/content/bpc-project/.venv/lib/python3.10/site-packages/torch/nn/functional.py:5137: UserWarning: Support for mismatched key_padding_mask and attn_mask is deprecated. Use same type for both instead.\n",
            "  warnings.warn(\n",
            "epoch 001:  32% 778/2444 [04:05<09:11,  3.02it/s, loss=10.305, nll_loss=9.799, ppl=890.93, wps=11808.7, ups=3.03, wpb=3896.2, bsz=190.3, num_updates=700, lr=8.75e-05, gnorm=1.522, train_wall=32, gb_free=12.4, wall=221]"
          ]
        }
      ]
    },
    {
      "cell_type": "markdown",
      "source": [
        "## 4. Evaluate the model"
      ],
      "metadata": {
        "id": "4Vu0z9iji4Qi"
      }
    },
    {
      "cell_type": "code",
      "source": [
        "!uv run ./eval.sh sorbian_german_bpe bpe dev"
      ],
      "metadata": {
        "id": "6ZtvHemDi6BH"
      },
      "execution_count": null,
      "outputs": []
    }
  ]
}